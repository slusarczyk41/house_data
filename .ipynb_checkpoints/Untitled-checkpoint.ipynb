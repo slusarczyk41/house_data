{
 "cells": [
  {
   "cell_type": "code",
   "execution_count": 229,
   "metadata": {},
   "outputs": [],
   "source": [
    "import requests\n",
    "from bs4 import BeautifulSoup\n",
    "from selenium.webdriver import Chrome\n",
    "from selenium.webdriver.chrome.options import Options\n",
    "import pandas as pd\n",
    "from os import listdir\n",
    "from datetime import datetime as dt"
   ]
  },
  {
   "cell_type": "code",
   "execution_count": null,
   "metadata": {},
   "outputs": [],
   "source": []
  },
  {
   "cell_type": "code",
   "execution_count": null,
   "metadata": {},
   "outputs": [],
   "source": []
  },
  {
   "cell_type": "code",
   "execution_count": 172,
   "metadata": {},
   "outputs": [],
   "source": [
    "def get_page_content(soup, url):\n",
    "    if 'olx.pl' in url:\n",
    "        title = soup.find('div', 'offer-titlebox').h1.text.strip()\n",
    "        data = {\n",
    "            x.find('th').text: x.find('strong').text.strip()\n",
    "            for x in \n",
    "            soup\\\n",
    "                .find('table', 'details fixed marginbott20 margintop5 full')\\\n",
    "                .find_all('table')\n",
    "        }\n",
    "        desc = soup.find('div', id = 'textContent').text.strip()\n",
    "        imgs = [\n",
    "            x['src']\n",
    "            for x in \n",
    "            soup\\\n",
    "                .find('div', id = 'offerdescription')\\\n",
    "                .find_all('img')\n",
    "        ]\n",
    "        \n",
    "    elif 'otodom.pl' in url:    \n",
    "        soup = soup.find('article')\n",
    "        title = soup.find('h1').text.strip()\n",
    "        data = dict([\n",
    "            [x.strip() for x in x.text.split(':')]\n",
    "            for x in\n",
    "            soup\\\n",
    "                .find('section', 'section-overview')\\\n",
    "                .find_all('li')\n",
    "        ])\n",
    "        desc = \" \".join([\n",
    "            x.text.replace('\\xa0', '')\n",
    "            for x in \n",
    "            soup\\\n",
    "                .find('section', 'section-description')\\\n",
    "                .find_all('p')\n",
    "            if x.text != ''\n",
    "        ])\n",
    "        imgs = list(set([\n",
    "            x['srcset']\n",
    "            for x in \n",
    "            soup\\\n",
    "                .find('div', 'slick-list')\\\n",
    "                .find_all('source')\n",
    "        ]))\n",
    "    return title, data, desc, imgs"
   ]
  },
  {
   "cell_type": "code",
   "execution_count": null,
   "metadata": {},
   "outputs": [],
   "source": []
  },
  {
   "cell_type": "code",
   "execution_count": null,
   "metadata": {},
   "outputs": [],
   "source": []
  },
  {
   "cell_type": "code",
   "execution_count": null,
   "metadata": {},
   "outputs": [],
   "source": []
  },
  {
   "cell_type": "code",
   "execution_count": 186,
   "metadata": {},
   "outputs": [],
   "source": [
    "driver = Chrome()"
   ]
  },
  {
   "cell_type": "code",
   "execution_count": 187,
   "metadata": {},
   "outputs": [],
   "source": [
    "driver.get(\"\"\"\n",
    "https://www.olx.pl/nieruchomosci/domy/sprzedaz/otrebusy/?\n",
    "search%5Bfilter_enum_builttype%5D%5B0%5D=wolnostojacy&search%5B\\\n",
    "filter_enum_builttype%5D%5B1%5D=gospodarstwo&search%5Bdist%5D=5&page=1\n",
    "\"\"\")"
   ]
  },
  {
   "cell_type": "code",
   "execution_count": 189,
   "metadata": {},
   "outputs": [],
   "source": [
    "soup = BeautifulSoup(driver.find_element_by_xpath(\"//*\").get_attribute('innerHTML'))"
   ]
  },
  {
   "cell_type": "code",
   "execution_count": 190,
   "metadata": {},
   "outputs": [],
   "source": [
    "urls = set([\n",
    "    x['href']\n",
    "    for x in \n",
    "    soup\\\n",
    "        .find('table', id = 'offers_table')\\\n",
    "        .find_all('a', attrs = {'class': 'detailsLink'})\n",
    "])\n"
   ]
  },
  {
   "cell_type": "code",
   "execution_count": 194,
   "metadata": {},
   "outputs": [],
   "source": [
    "offers = []\n",
    "for url in urls:\n",
    "    page = requests.get(url).text\n",
    "    soup = BeautifulSoup(page)\n",
    "    \n",
    "    try:\n",
    "        title, data, desc, imgs = get_page_content(soup, url)\n",
    "    except Exception as e:\n",
    "        print(e)\n",
    "        print(url)\n",
    "        print('---')\n",
    "        continue\n",
    "        \n",
    "    offers.append({\n",
    "        'url'  : url,\n",
    "        'title': title,\n",
    "        'data' : data,\n",
    "        'desc' : desc,\n",
    "        'imgs' : imgs\n",
    "    })"
   ]
  },
  {
   "cell_type": "code",
   "execution_count": 218,
   "metadata": {},
   "outputs": [],
   "source": [
    "data_list = [\n",
    "    [\n",
    "        offer['title'],\n",
    "        offer['url'],\n",
    "        offer['desc'],\n",
    "        \"-@@@-\".join(offer['imgs']),\n",
    "\n",
    "        offer['data']['Rynek'],\n",
    "        offer['data']['Powierzchnia'],\n",
    "        offer['data']['Powierzchnia działki'],\n",
    "        offer['data']['Rodzaj zabudowy'],\n",
    "        offer['data']['Liczba pięter'],\n",
    "        \n",
    "        offer['data'].get('Rok budowy', \"\"),\n",
    "        offer['data'].get(\"Poddasze\", \"\"),\n",
    "        offer['data'].get(\"Dach\", \"\"),\n",
    "        offer['data'].get(\"Pokrycie dachu\", \"\"),\n",
    "        offer['data'].get(\"Stan wykończenia\", \"\"),\n",
    "        offer['data'].get(\"Okna\", \"\"),\n",
    "        offer['data'].get(\"Położenie\", \"\"),\n",
    "    ]\n",
    "    for offer in\n",
    "    offers\n",
    "]"
   ]
  },
  {
   "cell_type": "code",
   "execution_count": 222,
   "metadata": {},
   "outputs": [],
   "source": [
    "results = pd.DataFrame(\n",
    "    data_list,\n",
    "    columns = ['tytul', 'url', 'opis', 'zdj', 'rynek', 'pow', 'pow_dzialki', 'rodzaj_zab',\n",
    "               'pietra', 'rok_budowy', 'poddasze', 'dach', 'pokrycie_dach', 'stan_wyk',\n",
    "               'okna', 'polozenie']\n",
    ")"
   ]
  },
  {
   "cell_type": "code",
   "execution_count": 235,
   "metadata": {},
   "outputs": [],
   "source": [
    "results.to_csv('data/'+str(len(listdir('data/'))+1).zfill(5)+\"_\"+str(dt.now().date()))"
   ]
  },
  {
   "cell_type": "code",
   "execution_count": null,
   "metadata": {},
   "outputs": [],
   "source": []
  }
 ],
 "metadata": {
  "kernelspec": {
   "display_name": "Python 3",
   "language": "python",
   "name": "python3"
  },
  "language_info": {
   "codemirror_mode": {
    "name": "ipython",
    "version": 3
   },
   "file_extension": ".py",
   "mimetype": "text/x-python",
   "name": "python",
   "nbconvert_exporter": "python",
   "pygments_lexer": "ipython3",
   "version": "3.6.9"
  },
  "toc": {
   "base_numbering": 1,
   "nav_menu": {},
   "number_sections": true,
   "sideBar": true,
   "skip_h1_title": false,
   "title_cell": "Table of Contents",
   "title_sidebar": "Contents",
   "toc_cell": false,
   "toc_position": {},
   "toc_section_display": true,
   "toc_window_display": false
  }
 },
 "nbformat": 4,
 "nbformat_minor": 2
}
